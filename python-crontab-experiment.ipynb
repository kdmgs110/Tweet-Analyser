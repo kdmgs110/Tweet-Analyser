{
 "cells": [
  {
   "cell_type": "code",
   "execution_count": 1,
   "metadata": {},
   "outputs": [],
   "source": [
    "# pip install python-crontab"
   ]
  },
  {
   "cell_type": "code",
   "execution_count": 5,
   "metadata": {
    "scrolled": true
   },
   "outputs": [
    {
     "data": {
      "text/plain": [
       "<My CronTab>"
      ]
     },
     "execution_count": 5,
     "metadata": {},
     "output_type": "execute_result"
    }
   ],
   "source": [
    "from crontab import CronTab\n",
    "cron = CronTab(user=True)  \n",
    "cron"
   ]
  },
  {
   "cell_type": "code",
   "execution_count": 8,
   "metadata": {},
   "outputs": [
    {
     "name": "stdout",
     "output_type": "stream",
     "text": [
      "# 0 5 * * 1 tar -zcf /var/backups/home.tgz /home/ # at 5 a.m every week with:\n",
      "30 * * * * python3 /mnt/c/workspace/pydev/tweet-analyser/autoLike.py progate >> /mnt/c/workspace/pydev/tweet-analyser/autoLike.log # m h  dom mon dow   command\n"
     ]
    }
   ],
   "source": [
    "# すでに登録されているjobを見る\n",
    "for job in cron:  \n",
    "    print (job)"
   ]
  },
  {
   "cell_type": "code",
   "execution_count": 14,
   "metadata": {},
   "outputs": [
    {
     "name": "stdout",
     "output_type": "stream",
     "text": [
      "# 0 5 * * 1 tar -zcf /var/backups/home.tgz /home/ # at 5 a.m every week with:\n",
      "30 * * * * python3 /mnt/c/workspace/pydev/tweet-analyser/autoLike.py progate >> /mnt/c/workspace/pydev/tweet-analyser/autoLike.log # m h  dom mon dow   command\n",
      "* * * * * python3 /mnt/c/workspace/pydev/tweet-analyser/autoLike.py udemy\n",
      "* * * * * python3 /mnt/c/workspace/pydev/tweet-analyser/autoLike.py udemy\n",
      "* * * * * python3 /mnt/c/workspace/pydev/tweet-analyser/autoLike.py udemy\n",
      "* * * * * python3 /mnt/c/workspace/pydev/tweet-analyser/autoLike.py udemy\n",
      "* * * * * python3 /mnt/c/workspace/pydev/tweet-analyser/autoLike.py udemy\n"
     ]
    }
   ],
   "source": [
    "# ジョブを追加する\n",
    "job = cron.new(command='python3 /mnt/c/workspace/pydev/tweet-analyser/autoLike.py udemy') \n",
    "job.minute.every(1) #1分おきに実行\n",
    "cron.write()  \n",
    "# 設定したjobを見る\n",
    "cron = CronTab(user=True)\n",
    "for job in cron:\n",
    "    print(job)"
   ]
  },
  {
   "cell_type": "code",
   "execution_count": null,
   "metadata": {},
   "outputs": [],
   "source": [
    "#ジョブを追加する場合\n",
    "\"\"\"\n",
    "job.minute.every(minutes)  # 分ごと\n",
    "job.hour.every(hours)  #時間ごと\n",
    "\"\"\"\n",
    "#ジョブを有効・無効にする\n",
    "\"\"\"\n",
    "job.enable()  \n",
    "job.enable(False)  \n",
    "job.is_enabled()  #有効だったらTrueが返る\n",
    "\"\"\""
   ]
  },
  {
   "cell_type": "code",
   "execution_count": 21,
   "metadata": {
    "scrolled": true
   },
   "outputs": [
    {
     "name": "stdout",
     "output_type": "stream",
     "text": [
      "30 * * * * python3 /mnt/c/workspace/pydev/tweet-analyser/autoLike.py progate >> /mnt/c/workspace/pydev/tweet-analyser/autoLike.log # m h  dom mon dow   command\n"
     ]
    }
   ],
   "source": [
    "# ジョブを検索する progate\n",
    "from crontab import CronTab\n",
    "cron = CronTab(user=True)\n",
    "cron = cron.find_command(\"autoLike.py progate\")\n",
    "for job in cron:\n",
    "    print(job)"
   ]
  },
  {
   "cell_type": "code",
   "execution_count": 23,
   "metadata": {
    "scrolled": true
   },
   "outputs": [
    {
     "name": "stdout",
     "output_type": "stream",
     "text": [
      "* * * * * python3 /mnt/c/workspace/pydev/tweet-analyser/autoLike.py udemy\n",
      "* * * * * python3 /mnt/c/workspace/pydev/tweet-analyser/autoLike.py udemy\n",
      "* * * * * python3 /mnt/c/workspace/pydev/tweet-analyser/autoLike.py udemy\n",
      "* * * * * python3 /mnt/c/workspace/pydev/tweet-analyser/autoLike.py udemy\n",
      "* * * * * python3 /mnt/c/workspace/pydev/tweet-analyser/autoLike.py udemy\n"
     ]
    }
   ],
   "source": [
    "# ジョブを検索する\n",
    "from crontab import CronTab\n",
    "cron = CronTab(user=True)\n",
    "cron = cron.find_command(\"autoLike.py progate\")\n",
    "for job in cron:\n",
    "    print(job)"
   ]
  },
  {
   "cell_type": "code",
   "execution_count": 26,
   "metadata": {},
   "outputs": [
    {
     "name": "stdout",
     "output_type": "stream",
     "text": [
      "30 * * * * python3 /mnt/c/workspace/pydev/tweet-analyser/autoLike.py progate >> /mnt/c/workspace/pydev/tweet-analyser/autoLike.log # m h  dom mon dow   command\n"
     ]
    }
   ],
   "source": [
    "# ジョブを削除する\n",
    "cron = CronTab(user=True)\n",
    "cron = cron.find_command(\"autoLike.py progate\")\n",
    "for job in cron:\n",
    "    cron.remove(job) \n",
    "    print(job)"
   ]
  },
  {
   "cell_type": "code",
   "execution_count": 6,
   "metadata": {},
   "outputs": [
    {
     "name": "stdout",
     "output_type": "stream",
     "text": [
      "# * * * * * python3 /mnt/c/workspace/pydev/tweet-analyser/autolike.py VRChatはじめました\n",
      "* * * * * python3 /mnt/c/workspace/pydev/tweet-analyser/autolike.py VRChatはじめました\n"
     ]
    }
   ],
   "source": [
    "#ジョブを見つけて有効・無効化する\n",
    "\n",
    "from crontab import CronTab\n",
    "cron = CronTab(user=True)  \n",
    "cron = cron.find_command(\"VRChatはじめました\")\n",
    "for job in cron:\n",
    "    print(job)\n",
    "    job.enable()\n",
    "    print(job)\n"
   ]
  },
  {
   "cell_type": "code",
   "execution_count": 5,
   "metadata": {},
   "outputs": [
    {
     "name": "stdout",
     "output_type": "stream",
     "text": [
      "# 0 5 * * 1 tar -zcf /var/backups/home.tgz /home/ # at 5 a.m every week with:\n",
      "15 * * * * python3 /mnt/c/workspace/pydev/tweet-analyser/autoLike.py progate >> /mnt/c/workspace/pydev/tweet-analyser/autoLike.log # m h  dom mon dow   command\n",
      "30 * * * * python3 /mnt/c/workspace/pydev/tweet-analyser/autoLike.py udemy >> /mnt/c/workspace/pydev/tweet-analyser/autoLike.log\n",
      "# * * * * * python3 /mnt/c/workspace/pydev/tweet-analyser/autolike.py # テックキャンプ # #テックキャンプ\n",
      "# * * * * * python3 /mnt/c/workspace/pydev/tweet-analyser/autolike.py VRChatはじめました\n"
     ]
    }
   ],
   "source": [
    "cron = CronTab(user=True)  \n",
    "for job in cron:\n",
    "    print(job)"
   ]
  }
 ],
 "metadata": {
  "kernelspec": {
   "display_name": "Python 3",
   "language": "python",
   "name": "python3"
  },
  "language_info": {
   "codemirror_mode": {
    "name": "ipython",
    "version": 3
   },
   "file_extension": ".py",
   "mimetype": "text/x-python",
   "name": "python",
   "nbconvert_exporter": "python",
   "pygments_lexer": "ipython3",
   "version": "3.5.2"
  }
 },
 "nbformat": 4,
 "nbformat_minor": 2
}
